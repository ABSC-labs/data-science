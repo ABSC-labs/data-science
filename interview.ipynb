{
 "cells": [
  {
   "cell_type": "markdown",
   "metadata": {
    "id": "-fTZ2ZyYiufV"
   },
   "source": [
    "# Import Data\n",
    "- Import the dataset `data.csv` into a Pandas notebook.\n",
    "- Print out the first 10 rows."
   ]
  },
  {
   "cell_type": "code",
   "execution_count": null,
   "metadata": {},
   "outputs": [],
   "source": []
  },
  {
   "attachments": {},
   "cell_type": "markdown",
   "metadata": {
    "id": "bI0BBuiQiufY"
   },
   "source": [
    "# Counts\n",
    "\n",
    "### How many unique areas and report district numbers are captured in this data?\n",
    "\n",
    "- Print out the number of rows and columns in the DataFrame.\n",
    "- Print out the number of unique values in the following columns.\n",
    "  - Area\n",
    "  - Rpt Dist No"
   ]
  },
  {
   "cell_type": "code",
   "execution_count": null,
   "metadata": {},
   "outputs": [],
   "source": []
  },
  {
   "attachments": {},
   "cell_type": "markdown",
   "metadata": {
    "id": "rd8if0DliufZ"
   },
   "source": [
    "# Mapping\n",
    "\n",
    "### Where has all of the crime taken place on January 1, 2020?\n",
    "\n",
    "- Create a visualization to add records to a map. Each record must meet the following criteria:\n",
    "  - Lat/Lon is greater than 0.\n",
    "  - 'DATE OCC' is on January 1, 2020."
   ]
  },
  {
   "cell_type": "code",
   "execution_count": null,
   "metadata": {},
   "outputs": [],
   "source": []
  },
  {
   "attachments": {},
   "cell_type": "markdown",
   "metadata": {
    "id": "s3sceTFlZb2h"
   },
   "source": [
    "# Data Visualization\n",
    "\n",
    "### What is the current trend of crime in Los Angeles County?\n",
    "\n",
    "- Create a data visualization that shows a trend line across months in 2020."
   ]
  },
  {
   "cell_type": "code",
   "execution_count": null,
   "metadata": {
    "id": "9Se4YgZtOVfF"
   },
   "outputs": [],
   "source": []
  }
 ],
 "metadata": {
  "colab": {
   "provenance": []
  },
  "kernelspec": {
   "display_name": "Python 3 (ipykernel)",
   "language": "python",
   "name": "python3"
  },
  "language_info": {
   "codemirror_mode": {
    "name": "ipython",
    "version": 3
   },
   "file_extension": ".py",
   "mimetype": "text/x-python",
   "name": "python",
   "nbconvert_exporter": "python",
   "pygments_lexer": "ipython3",
   "version": "3.10.6"
  },
  "vscode": {
   "interpreter": {
    "hash": "31f2aee4e71d21fbe5cf8b01ff0e069b9275f58929596ceb00d14d90e3e16cd6"
   }
  }
 },
 "nbformat": 4,
 "nbformat_minor": 1
}
